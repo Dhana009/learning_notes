{
 "cells": [
  {
   "cell_type": "code",
   "execution_count": null,
   "metadata": {},
   "outputs": [],
   "source": []
  },
  {
   "cell_type": "markdown",
   "metadata": {},
   "source": [
    "## first way\n",
    "\n",
    "run the selenium driver\n",
    "\n",
    "download the driver here : https://chromedriver.chromium.org/downloads"
   ]
  },
  {
   "cell_type": "code",
   "execution_count": 1,
   "metadata": {},
   "outputs": [],
   "source": [
    "\n",
    "from selenium import webdriver \n",
    "\n",
    "driver = webdriver.Chrome() #initializing the webdriver"
   ]
  },
  {
   "cell_type": "code",
   "execution_count": null,
   "metadata": {},
   "outputs": [],
   "source": [
    "from selenium import webdriver\n",
    "from selenium.webdriver.chrome.service import Service #`Service` is a class that is used to start the ChromeDriver server\n",
    "\n",
    "service_obj=Service(r'D:\\fullstackengineer\\chromedriver-win64\\chromedriver-win64\\chromedriver.exe')\n",
    "driver = webdriver.Chrome(service=service_obj)"
   ]
  },
  {
   "cell_type": "markdown",
   "metadata": {},
   "source": [
    "## second way \n",
    "\n",
    "!pip install webdriver-manager\n",
    "\n",
    "https://pypi.org/project/webdriver-manager/"
   ]
  },
  {
   "cell_type": "code",
   "execution_count": 7,
   "metadata": {},
   "outputs": [],
   "source": [
    "from selenium import webdriver\n",
    "from webdriver_manager.chrome import ChromeDriverManager #`ChromeDriverManager` is a class that is used to install the latest version of the ChromeDriver\n",
    "from selenium.webdriver.chrome.service import Service\n",
    "\n",
    "driver = webdriver.Chrome(service=Service(ChromeDriverManager().install())) #this will install the latest version of the ChromeDriver and start the Chrome browser"
   ]
  },
  {
   "cell_type": "markdown",
   "metadata": {},
   "source": [
    "## basic actions can be done with driver "
   ]
  },
  {
   "cell_type": "code",
   "execution_count": null,
   "metadata": {},
   "outputs": [],
   "source": [
    "\n",
    "driver.close() #close the current tab\n",
    "driver.quit() #close the browser\n",
    "driver.maximize_window() #maximize the window\n",
    "driver.minimize_window() #minimize the window\n",
    "driver.refresh() #refresh the page\n",
    "driver.current_url #get the current url\n",
    "driver.title #get the title of the page\n",
    "driver.back() #go back to the previous page\n",
    "driver.forward() #go forward to the next page\n",
    "driver.page_source #get the page source\n",
    "driver.get('url') #open the url\n"
   ]
  },
  {
   "cell_type": "markdown",
   "metadata": {},
   "source": [
    "## finding elements by : id, name, class, link_text, partial_link_text, tag_name, xpath, css_selector"
   ]
  },
  {
   "cell_type": "code",
   "execution_count": null,
   "metadata": {},
   "outputs": [],
   "source": [
    "\n",
    "\n",
    "from selenium.webdriver.common.by import  By #`By` is a class that is used to select the element by different locators\n",
    "\n",
    "driver.find_element(By.ID, 'id')\n",
    "driver.find_element(By.NAME, 'name')\n",
    "driver.find_element(By.CLASS_NAME, 'class')\n",
    "driver.find_element(By.LINK_TEXT, 'link_text')\n",
    "driver.find_element(By.PARTIAL_LINK_TEXT, 'partial_link_text')\n",
    "driver.find_element(By.TAG_NAME, 'tag_name')\n",
    "driver.find_element(By.XPATH, 'xpath')\n",
    "driver.find_element(By.CSS_SELECTOR, 'css_selector')\n"
   ]
  },
  {
   "cell_type": "markdown",
   "metadata": {},
   "source": [
    "## xpaths"
   ]
  },
  {
   "cell_type": "markdown",
   "metadata": {},
   "source": [
    "xpaths - absolute and relative xpaths\n",
    "\n",
    "absolute xpath - starts with single slash '/', it starts selection from the root node\n",
    "\n",
    "relative xpath - starts with double slash '//', it starts selection from anywhere in the document\n",
    "\n",
    "-- absolute xpath is not recommended because if the html changes, the xpath will also change\n",
    "\"/html/body/div[1]/form/input[1]\"\n",
    "\n",
    "-- relative xpath is more stable and reliable because it is not dependent on the html structure\n",
    "\"//input[@id='username']\""
   ]
  },
  {
   "cell_type": "markdown",
   "metadata": {},
   "source": [
    "### xpath by attributes\n",
    "\n",
    "//tagname[@attribute='value'] - single attribut\n",
    "\n",
    "//tagname[@attribute1='value' and @attribute2='value'] - multiple attribut\n",
    "\n",
    "//tagname[@attribute1='value' or @attribute2='value'] - multiple attribut\n",
    "\n",
    "//tagname[text()='text'] #syntax for xpath by text\n",
    "\n",
    "//tagname[contains(text(),'text')] #contains is a function that checks if the text is present in the tagname\n",
    "\n",
    "//*[contains(text(),'text')] # * is a wildcard character that can be used to represent any tagname\n",
    "\n",
    "//tagname[starts-with(@attribute,'value')] #starts-with is a function that checks if the attribute starts with the value\n",
    "\n",
    "\"//input[@id='username']/following-sibling::input[@id='password']\"\n",
    "\n",
    "\"//input[@id='password']/preceding-sibling::input[@id='username']\"\n",
    "\n"
   ]
  },
  {
   "cell_type": "code",
   "execution_count": 2,
   "metadata": {},
   "outputs": [],
   "source": [
    "# examples\n",
    "\n",
    "# //input[@id='username']\n",
    "\n",
    "# //input[@name='password']\n",
    "\n",
    "# //input[@type='submit']\n",
    "\n",
    "# //a[@href='forgotpassword.html']\n",
    "\n",
    "# //a[@class='forgotpassword']\n",
    "\n",
    "# //a[@id='forgotpassword']\n",
    "\n",
    "# //*[contains(text(),'forgotpassword')]\n",
    "\n",
    "# //a[contains(@href,'forgotpassword')]\n",
    "\n",
    "# //a[contains(text(),'Forgot Password')]\n",
    "\n",
    "# //a[contains(@class,'forgotpassword')]\n",
    "\n",
    "# //a[contains(@id,'forgotpassword')]\n",
    "\n",
    "# //a[text()='Forgot Password']\n",
    "\n",
    "# //a[@id='forgotpassword' and @class='forgotpassword']\n",
    "\n",
    "# //a[@id='forgotpassword' or @class='forgotpassword']\n",
    "\n",
    "# //a[@id='forgotpassword' and contains(@class,'forgotpassword')]\n",
    "\n",
    "# //a[@id='forgotpassword' or contains(@class,'forgotpassword')]\n"
   ]
  },
  {
   "cell_type": "code",
   "execution_count": null,
   "metadata": {},
   "outputs": [],
   "source": [
    "driver.find_element(By.CLASS_NAME, 'class')\n",
    "driver.find_element(By.CLASS_NAME, 'class').text\n",
    "driver.find_element(By.CLASS_NAME, 'class').get_attribute('attribute') #get the attribute value of the element\n",
    "\n",
    "#give an example\n",
    "# <input type='text' id='username' name='username' class='form-control' placeholder='Enter your username'>\n",
    "# <input type='password' id='password' name='password' class='form-control' placeholder='Enter your password'>\n",
    "# <button type='submit' class='btn btn-primary'>Login</button>\n",
    "\n",
    "driver.find_element(By.ID, 'username').send_keys('username')\n",
    "driver.find_element(By.ID, 'password').send_keys('password')\n",
    "driver.find_element(By.CLASS_NAME, 'btn-primary').click()\n",
    "\n",
    "#get attribute value\n",
    "#what will be the output of this line of code ?\n",
    "driver.find_element(By.ID, 'username').get_attribute('placeholder') \n",
    "\n",
    "#output - 'Enter your username'\n",
    "\n",
    "#if we have multiple elements with the same class name, we can use find_elements method\n",
    "\n",
    "# <input type='text' id='username' name='username' class='form-control' placeholder='Enter your username'>\n",
    "# <input type='password' id='password' name='password' class='form-control' placeholder='Enter your password'>\n",
    "# <button type='submit' class='btn btn-primary'>Login</button>\n",
    "# <button type='submit' class='btn btn-primary'>Register</button>\n",
    "# <button type='submit' class='btn btn-primary'>Forgot Password</button>\n",
    "\n",
    "driver.find_elements(By.CLASS_NAME, 'btn-primary')\n",
    "driver.find_elements(By.CLASS_NAME, 'btn-primary')[0].click()\n",
    "\n",
    "\n",
    "\n"
   ]
  },
  {
   "cell_type": "markdown",
   "metadata": {},
   "source": [
    "## webdriver wait"
   ]
  },
  {
   "cell_type": "markdown",
   "metadata": {},
   "source": [
    "#### implicit wait - wait for a certain amount of time before throwing an exception\n",
    "#### explicit wait - wait for a certain condition to be met before proceeding further"
   ]
  },
  {
   "cell_type": "code",
   "execution_count": null,
   "metadata": {},
   "outputs": [],
   "source": [
    "#implicit wait\n",
    "driver.implicitly_wait(10) #10 seconds\n",
    "\n",
    "#explicit wait\n",
    "from selenium.webdriver.support.ui import WebDriverWait #`WebDriverWait` is a class that is used to wait for a certain condition to occur before proceeding with the execution of the code\n",
    "from selenium.webdriver.support import expected_conditions as EC  #`expected_conditions` is a module that contains a set of predefined conditions that can be used with WebDriverWait\n",
    "\n",
    "\n",
    "wait = WebDriverWait(driver, 10)\n",
    "element = wait.until(EC.presence_of_element_located((By.ID, 'username')))\n",
    "\n",
    "\n",
    "#Certainly! Here are the explanations for each of the methods you provided:\n",
    "#\n",
    "#1. `presence_of_element_located`: Waits for the specified element to be present in the Document Object Model (DOM) of the web page, regardless of whether it's visible or not.\n",
    "#\n",
    "#2. `presence_of_all_elements_located`: Waits for all specified elements to be present in the DOM of the web page, irrespective of their visibility.\n",
    "#\n",
    "#3. `visibility_of_element_located`: Waits for the specified element to be visible on the web page, indicating that it is rendered and displayed to the user, but it may not necessarily be clickable.\n",
    "#\n",
    "#4. `visibility_of_all_elements_located`: Waits for all specified elements to be visible on the web page, indicating that they are rendered and displayed to the user, but they may not necessarily be clickable.\n",
    "#\n",
    "#5. `element_to_be_clickable`: Waits for the specified element to be both visible and enabled, indicating that it is ready for user interaction such as clicking.\n",
    "#\n",
    "#6. `element_to_be_selected`: Waits for the specified element to be selected, which typically applies to checkboxes, radio buttons, and options within select elements.\n",
    "#\n",
    "#7. `title_contains`: Waits for the title of the web page to contain the given string.\n",
    "#\n",
    "#8. `title_is`: Waits for the title of the web page to exactly match the given string.\n",
    "#\n",
    "#9. `alert_is_present`: Waits for an alert dialog to be present on the web page.\n",
    "#\n",
    "#10. `alert_is_not_present`: Waits for an alert dialog to be not present on the web page.\n",
    "#\n",
    "#11. `text_to_be_present_in_element`: Waits for the specified text to be present within the specified element.\n",
    "#\n",
    "#12. `text_to_be_present_in_element_value`: Waits for the specified text to be present within the value attribute of the specified element.\n",
    "\n"
   ]
  },
  {
   "cell_type": "code",
   "execution_count": null,
   "metadata": {},
   "outputs": [],
   "source": [
    "#11. `text_to_be_present_in_element`: Waits for the specified text to be present within the specified element.\n",
    "#\n",
    "#12. `text_to_be_present_in_element_value`: Waits for the specified text to be present within the value attribute of the specified element.\n",
    "\n",
    "#give examples for these two to understand its use cases\n",
    "\n",
    "# Wait until the error message is present in the specific element\n",
    "error_message_element = WebDriverWait(driver, 10).until(\n",
    "    EC.text_to_be_present_in_element((By.ID, \"error-message\"), \"Incorrect username or password.\")\n",
    ")\n",
    "\n",
    "# Wait until the email input field value is updated with the entered email\n",
    "email_input_value = WebDriverWait(driver, 10).until(\n",
    "    EC.text_to_be_present_in_element_value((By.ID, \"email\"), \"example@example.com\")\n",
    ")"
   ]
  },
  {
   "cell_type": "markdown",
   "metadata": {},
   "source": []
  },
  {
   "cell_type": "markdown",
   "metadata": {},
   "source": [
    "## ActionChains"
   ]
  },
  {
   "cell_type": "code",
   "execution_count": null,
   "metadata": {},
   "outputs": [],
   "source": [
    "from selenium.webdriver.common.action_chains import ActionChains #`ActionChains` is a class that is used to perform mouse actions like moving to an element, double-clicking, right-clicking, etc.\n",
    "\n",
    "#mouse actions\n",
    "action = ActionChains(driver)\n",
    "\n",
    "#move to element\n",
    "action.move_to_element(driver.find_element(By.ID, 'element')).perform() #perform the action, otherwise it won't work\n",
    "\n",
    "#double click - double click on the element\n",
    "action.double_click(driver.find_element(By.ID, 'element')).perform()\n",
    "\n",
    "#right click - right click on the element\n",
    "action.context_click(driver.find_element(By.ID, 'element')).perform()\n",
    "\n"
   ]
  },
  {
   "cell_type": "markdown",
   "metadata": {},
   "source": [
    "## window handling"
   ]
  },
  {
   "cell_type": "code",
   "execution_count": null,
   "metadata": {},
   "outputs": [],
   "source": [
    "#window handling - switch between windows and frames\n",
    "\n",
    "windows = driver.window_handles #get the window handles\n",
    "driver.switch_to.window(windows[0]) #switch to the first window\n",
    "driver.switch_to.window(windows[1]) #switch to the second window\n",
    "driver.close() #close the current window\n",
    "driver.quit() #close the browser\n",
    "\n",
    "driver.switch_to.frame('frame_name') #switch to the frame by name\n",
    "driver.switch_to.default_content() #switch back to the main content"
   ]
  },
  {
   "cell_type": "code",
   "execution_count": null,
   "metadata": {},
   "outputs": [],
   "source": [
    "#alerts\n",
    "alert = driver.switch_to.alert\n",
    "alert.accept() #accept the alert\n",
    "alert.dismiss() #dismiss the alert\n",
    "alert.send_keys('text') #send keys to the alert"
   ]
  },
  {
   "cell_type": "code",
   "execution_count": null,
   "metadata": {},
   "outputs": [],
   "source": [
    "#driver.get('https://the-internet.herokuapp.com/windows') #open the url\n",
    "\n",
    "#execute_script - execute javascript code\n",
    "driver.execute_script('window.scrollTo(0, document.body.scrollHeight);') #scroll to the bottom of the page\n",
    "driver.execute_script('window.scrollTo(0, 0);') #scroll to the top of the page\n",
    "\n"
   ]
  },
  {
   "cell_type": "markdown",
   "metadata": {},
   "source": [
    "## chrome options"
   ]
  },
  {
   "cell_type": "code",
   "execution_count": null,
   "metadata": {},
   "outputs": [],
   "source": [
    "#chrome options - set the options for the Chrome browser\n",
    "\n",
    "from selenium.webdriver.chrome.options import Options #`Options` is a class that is used to set the options for the Chrome browser\n",
    "\n",
    "options = Options()\n",
    "options.add_argument('--headless') #run the browser in headless mode\n",
    "options.add_argument('--disable-gpu') #disable the gpu\n",
    "options.add_argument('--no-sandbox') #disable the sandbox\n",
    "options.add_argument('--disable-dev-shm-usage') #disable the dev shm usage\n",
    "options.add_argument('--disable-infobars') #disable the infobars\n",
    "options.add_argument('--disable-extensions') #disable the extensions\n",
    "options.add_argument('--disable-notifications') #disable the notifications\n",
    "options.add_argument('--disable-popup-blocking') #disable the popup blocking\n",
    "options.add_argument('--disable-logging') #disable the logging\n",
    "options.add_argument('--disable-web-security') #disable the web security\n",
    "options.add_argument('--ignore-certificate-errors') #ignore the certificate errors\n",
    "options.add_argument('--start-maximized') #start the browser in maximized mode\n",
    "options.add_argument('--incognito') #start the browser in incognito mode\n",
    "\n",
    "#user agent why ? \n",
    "#The User-Agent request header is a characteristic string that lets servers and network peers identify the application, operating system, vendor, and/or version of the requesting user agent. This information is used by web servers to provide content that is compatible with the user's browser.\n",
    "options.add_argument('--user-agent=Mozilla/5.0 (Windows NT 10.0; Win64; x64) AppleWebKit/537.36 (KHTML, like Gecko) Chrome/58.0.3029.110 Safari/537.3') \n",
    "\n",
    "driver = webdriver.Chrome(options=options)"
   ]
  },
  {
   "cell_type": "markdown",
   "metadata": {},
   "source": [
    "## dropdowns"
   ]
  },
  {
   "cell_type": "code",
   "execution_count": null,
   "metadata": {},
   "outputs": [],
   "source": [
    "#dropdowns - select the dropdown options\n",
    "\n",
    "from selenium.webdriver.support.ui import Select #`Select` is a class that is used to select the dropdown options\n",
    "\n",
    "dropdown = Select(driver.find_element(By.XPATH,\"//select[@id='exampleFormControlSelect1']\")) #selects the dropdown\n",
    "\n",
    "dropdown.select_by_index(1) #selects the option by index\n",
    "\n",
    "dropdown.select_by_value('option_value') #selects the option by value\n",
    "\n",
    "dropdown.select_by_visible_text('option_text') #selects the option by visible text\n",
    "\n",
    "#driver.get('https://rahulshettyacademy.com/dropdownsPractise/')\n",
    "#driver.get('https://rahulshettyacademy.com/AutomationPractice/')"
   ]
  },
  {
   "cell_type": "markdown",
   "metadata": {},
   "source": [
    "## pytest "
   ]
  },
  {
   "cell_type": "markdown",
   "metadata": {},
   "source": [
    "### What are Fixtures?\n",
    "\n",
    "Fixtures are functions that provide a fixed baseline for tests by setting up preconditions, providing data, or performing any necessary setup tasks required for running tests.\n",
    "\n",
    "### Why Use Fixtures?\n",
    "\n",
    "Fixtures help in organizing setup and teardown code, promoting code reuse, and ensuring consistent testing conditions across test cases.\n",
    "\n",
    "### Defining Fixtures:\n",
    "\n",
    "Fixtures are defined using the @pytest.fixture decorator in Pytest.\n",
    "\n",
    "### Fixture Scope Options:\n",
    "\n",
    "Fixtures can have different scopes, which determine how many times they are invoked during test execution.\n",
    "\n",
    "Available scope options are:\n",
    "\n",
    "##### function (default): Fixture is invoked once per test function.\n",
    "\n",
    "##### class: Fixture is invoked once per test class.\n",
    "\n",
    "##### module: Fixture is invoked once per test module.\n",
    "\n",
    "##### session: Fixture is invoked once for the entire test session.\n",
    "\n",
    "@pytest.fixture(scope=\"module\")\n",
    "\n",
    "\n",
    "### Autouse Fixtures:\n",
    "\n",
    "Autouse fixtures are automatically used by all tests in the same scope without needing to explicitly request them as arguments.\n",
    "\n",
    "They are useful for performing common setup and teardown actions required for all tests in a particular scope.\n",
    "\n",
    "@pytest.fixture(autouse=True)\n",
    "\n",
    "\n",
    "### Parameterized Fixtures:\n",
    "\n",
    "Parameterized fixtures allow you to define multiple instances of a fixture, each with different parameters.\n",
    "\n",
    "Pytest executes the test function for each parameter set provided by the fixture.\n",
    "\n",
    "@pytest.fixture(params=[1, 2, 3])\n",
    "\n",
    "\n",
    "### Conftest.py:\n",
    "Global Fixture Setup:\n",
    "\n",
    "Fixtures defined in the conftest.py file are automatically available to all test modules within the same directory and its subdirectories.\n",
    "\n",
    "They provide a way to set up common fixtures and behavior for multiple test modules.\n"
   ]
  },
  {
   "cell_type": "code",
   "execution_count": null,
   "metadata": {},
   "outputs": [],
   "source": [
    "#1. Basic Fixture:\n",
    "\n",
    "import pytest\n",
    "\n",
    "@pytest.fixture #decorator, which is used to define a fixture\n",
    "def greeting():\n",
    "    return \"Hello, World!\"\n",
    "\n",
    "def test_greeting(greeting): # the fixture name is passed as an argument to the test function\n",
    "    assert greeting == \"Hello, World!\"\n",
    "\n",
    "\n",
    "#2. Fixture with Setup and Teardown:\n",
    "\n",
    "import pytest\n",
    "\n",
    "@pytest.fixture\n",
    "def setup_and_teardown():\n",
    "    print(\"\\nSetup\")\n",
    "    yield\n",
    "    print(\"\\nTeardown\")\n",
    "\n",
    "def test_setup_and_teardown(setup_and_teardown):\n",
    "    print(\"Test\")\n",
    "\n",
    "\n",
    "#3. Fixture with Return Value:\n",
    "\n",
    "import pytest\n",
    "\n",
    "@pytest.fixture\n",
    "def return_value():\n",
    "    return \"Return Value\"\n",
    "\n",
    "def test_return_value(return_value):\n",
    "    assert return_value == \"Return Value\"\n",
    "\n",
    "\n"
   ]
  },
  {
   "cell_type": "code",
   "execution_count": null,
   "metadata": {},
   "outputs": [],
   "source": [
    "#2. Fixture Scope:\n",
    "\n",
    "import pytest\n",
    "\n",
    "@pytest.fixture(scope=\"module\") #scope is set to module\n",
    "def database_connection():\n",
    "    # Setup database connection\n",
    "    db_connection = connect_to_database()\n",
    "    yield db_connection\n",
    "    # Teardown database connection\n",
    "    disconnect_from_database(db_connection)\n",
    "\n",
    "def test_database_read(database_connection): #the fixture name is passed as an argument to the test function\n",
    "    # Test reading data from database\n",
    "    data = database_connection.read_data()\n",
    "    assert data != None\n",
    "\n",
    "def test_database_write(database_connection): #the fixture name is passed as an argument to the test function\n",
    "    # Test writing data to database\n",
    "    success = database_connection.write_data(\"Test Data\")\n",
    "    assert success == True\n"
   ]
  },
  {
   "cell_type": "code",
   "execution_count": null,
   "metadata": {},
   "outputs": [],
   "source": [
    "#3. Autouse Fixture:\n",
    "\n",
    "import pytest\n",
    "\n",
    "@pytest.fixture(autouse=True,scope='class') # autouse is set to True, scope is set to class\n",
    "def setup():\n",
    "    # Perform setup actions\n",
    "    print(\"Setup before test\")\n",
    "    yield\n",
    "    # Perform teardown actions\n",
    "    print(\"Teardown after test\")\n",
    "\n",
    "def test_example():\n",
    "    # Test function\n",
    "    print(\"Test execution\")\n",
    "    assert True\n"
   ]
  },
  {
   "cell_type": "code",
   "execution_count": null,
   "metadata": {},
   "outputs": [],
   "source": [
    "# 4. Parameterized Fixture:\n",
    "\n",
    "import pytest\n",
    "\n",
    "@pytest.fixture(params=[(\"apple\", 5), (\"banana\", 3), (\"orange\", 7)]) #fixture with parameters, each parameter is a tuple\n",
    "def fruit(request):\n",
    "    return request.param\n",
    "\n",
    "def test_fruit_quantity(fruit):\n",
    "    fruit_name, quantity = fruit\n",
    "    assert quantity > 0\n",
    "\n",
    "\n",
    "\n",
    "# give examples how to use the parameterize fixture\n",
    "\n",
    "#1. Basic Parameterized Fixture:\n",
    "\n",
    "import pytest\n",
    "\n",
    "@pytest.fixture(params=[1, 2, 3]) #fixture with parameters\n",
    "def number(request):\n",
    "    return request.param\n",
    "\n",
    "def test_number(number):\n",
    "    assert number > 0\n",
    "\n",
    "#2. Parameterized Fixture with Multiple Parameters:\n",
    "\n",
    "import pytest\n",
    "\n",
    "@pytest.fixture(params=[(1, 2), (3, 4), (5, 6)]) #fixture with multiple parameters\n",
    "def numbers(request):\n",
    "    return request.param\n",
    "\n",
    "def test_numbers(numbers):\n",
    "    a, b = numbers\n",
    "    assert a + b > 0\n",
    "\n"
   ]
  },
  {
   "cell_type": "code",
   "execution_count": null,
   "metadata": {},
   "outputs": [],
   "source": [
    "#5. Conftest.py:\n",
    "\n",
    "# conftest.py\n",
    "\n",
    "import pytest\n",
    "\n",
    "@pytest.fixture(scope=\"module\")\n",
    "def global_setup():\n",
    "    # Global setup code\n",
    "    print(\"\\nGlobal setup before module\")\n",
    "\n",
    "    yield\n",
    "\n",
    "    # Global teardown code\n",
    "    print(\"\\nGlobal teardown after module\")\n"
   ]
  },
  {
   "cell_type": "code",
   "execution_count": null,
   "metadata": {},
   "outputs": [],
   "source": [
    "# test_module.py\n",
    "\n",
    "import pytest\n",
    "\n",
    "def test_example(global_setup):\n",
    "    print(\"Test function using global fixture\")\n",
    "    assert True\n",
    "\n",
    "\n",
    "#Using usefixtures helps keep this function signature clean by avoiding the need to include fixture arguments explicitly, making the test function definition simpler and more focused on the test logic.\n",
    "\n",
    "import pytest\n",
    "\n",
    "# Fixture definition\n",
    "@pytest.fixture\n",
    "def my_fixture():\n",
    "    return \"fixture_data\"\n",
    "\n",
    "# Test function using usefixtures\n",
    "@pytest.mark.usefixtures(\"my_fixture\")\n",
    "def test_example():\n",
    "    # my_fixture result is not directly accessible here\n",
    "    assert True  # Placeholder assertion\n"
   ]
  },
  {
   "cell_type": "markdown",
   "metadata": {},
   "source": [
    "## Assertions \n"
   ]
  },
  {
   "cell_type": "markdown",
   "metadata": {},
   "source": [
    "#### in testing are crucial for verifying that the behavior of your code matches expected criteria. \n",
    "\n",
    "assert False # Placeholder assertion, will always fail\n",
    "\n",
    "assert True # Placeholder assertion, will always pass\n",
    "\n",
    "assert 2 + 2 == 4\n",
    "\n",
    "assert 2 + 2 == 5\n"
   ]
  },
  {
   "cell_type": "markdown",
   "metadata": {},
   "source": [
    "## Parametrize Decorator"
   ]
  },
  {
   "cell_type": "markdown",
   "metadata": {},
   "source": [
    "Pytest provides the @pytest.mark.parametrize decorator to parametrize test functions. It allows you to specify the parameters and their corresponding values for multiple test cases."
   ]
  },
  {
   "cell_type": "code",
   "execution_count": null,
   "metadata": {},
   "outputs": [],
   "source": [
    "# Code to test\n",
    "def add(x, y):\n",
    "    return x + y\n",
    "\n",
    "\n",
    "# Test parametrization\n",
    "import pytest\n",
    "\n",
    "@pytest.mark.parametrize(\"x, y, expected\", [\n",
    "    (1, 2, 3),   # Test Case 1: Adding positive numbers\n",
    "    (-1, -1, -2),  # Test Case 2: Adding negative numbers\n",
    "    (0, 0, 0),   # Test Case 3: Adding zeroes\n",
    "    (10, -5, 5)  # Test Case 4: Adding positive and negative numbers\n",
    "])\n",
    "def test_add(x, y, expected):\n",
    "    assert add(x, y) == expected\n",
    "\n",
    "\n",
    "\n",
    "# Dynamic parameter generation\n",
    "@pytest.mark.parametrize(\"x\", [i for i in range(10)])\n",
    "@pytest.mark.parametrize(\"y\", [i for i in range(10)])\n",
    "def test_add(x, y):\n",
    "    assert add(x, y) == x + y\n",
    "\n"
   ]
  },
  {
   "cell_type": "code",
   "execution_count": null,
   "metadata": {},
   "outputs": [],
   "source": [
    "##Here's an example demonstrating the use of test fixtures and setup/teardown methods within a test class using Pytest:\n",
    "\n",
    "import pytest\n",
    "\n",
    "class TestCalculator:\n",
    "    @pytest.fixture\n",
    "    def calculator(self):\n",
    "        # Setup: Create an instance of the calculator class\n",
    "        calc = Calculator()\n",
    "        yield calc  # Provide the fixture value\n",
    "        # Teardown: Clean up resources after each test\n",
    "        calc.close()\n",
    "\n",
    "    def test_addition(self, calculator):\n",
    "        # Test method: Test addition functionality of the calculator\n",
    "        assert calculator.add(2, 3) == 5\n",
    "\n",
    "    def test_subtraction(self, calculator):\n",
    "        # Test method: Test subtraction functionality of the calculator\n",
    "        assert calculator.subtract(5, 2) == 3\n"
   ]
  },
  {
   "cell_type": "markdown",
   "metadata": {},
   "source": [
    "## markers"
   ]
  },
  {
   "cell_type": "markdown",
   "metadata": {},
   "source": [
    "\n",
    "Markers in pytest are a powerful feature that allows you to customize the behavior of your tests, organize them into categories, and apply special attributes or settings.\n",
    "\n",
    "Markers are defined using the @pytest.mark decorator followed by the marker name. You can define custom markers specific to your project or use built-in markers provided by pytest.\n",
    "\n",
    "You can use the -m option with pytest to run tests with specific markers.\n",
    "\n",
    "pytest -m smoke\n"
   ]
  },
  {
   "cell_type": "code",
   "execution_count": null,
   "metadata": {},
   "outputs": [],
   "source": [
    "import pytest\n",
    "\n",
    "@pytest.mark.smoke\n",
    "def test_login():\n",
    "    pass\n"
   ]
  },
  {
   "cell_type": "markdown",
   "metadata": {},
   "source": [
    "## pytest.ini"
   ]
  },
  {
   "cell_type": "markdown",
   "metadata": {},
   "source": [
    "[pytest] Section:\n",
    "\n",
    "addopts: Additional command-line options to pass to Pytest.\n",
    "\n",
    "testpaths: Directory paths to search for test files.\n",
    "\n",
    "markers: Custom markers and their descriptions.\n"
   ]
  },
  {
   "cell_type": "code",
   "execution_count": null,
   "metadata": {},
   "outputs": [],
   "source": [
    "# pytest.ini\n",
    "\n",
    "[pytest]\n",
    "# Additional command-line options\n",
    "addopts = -v --cov=my_project --cov-report=html\n",
    "\n",
    "# Custom markers\n",
    "markers =\n",
    "    smoke: mark tests as smoke tests\n",
    "    regression: mark tests as regression tests\n",
    "\n",
    "# Filter warnings\n",
    "filterwarnings =\n",
    "    ignore::DeprecationWarning\n",
    "    ignore::UserWarning\n",
    "\n",
    "# Test paths\n",
    "testpaths = tests\n"
   ]
  },
  {
   "cell_type": "markdown",
   "metadata": {},
   "source": [
    "## pytest - testing framework"
   ]
  },
  {
   "cell_type": "code",
   "execution_count": null,
   "metadata": {},
   "outputs": [],
   "source": [
    "skip: Marks a test function to be skipped.\n",
    "\n",
    "skipif: Conditionally skips a test function based on a specified condition.\n",
    "\n",
    "xfail: Marks a test function as an expected failure.\n",
    "\n",
    "parametrize: Marks a test function for parameterization.\n",
    "\n",
    "fixture: Marks a test function as a fixture.\n",
    "\n",
    "usefixtures: Marks a test function to use specified fixtures.\n"
   ]
  },
  {
   "cell_type": "code",
   "execution_count": null,
   "metadata": {},
   "outputs": [],
   "source": []
  },
  {
   "cell_type": "code",
   "execution_count": null,
   "metadata": {},
   "outputs": [],
   "source": [
    "#pytest - testing framework\n",
    "\n",
    "#rules for writing test cases\n",
    "#1. test method should start with test_\n",
    "#2. test method should have self as the first argument\n",
    "#4. test method should have assertions to check the expected result\n",
    "#5. test method should be independent and isolated\n",
    "#6. test method should be small and focused\n",
    "\n",
    "\n",
    "#pytest -v test_file.py #run the test file in verbose mode to see the output of each test case\n",
    "\n",
    "#pytest -k test_method_name #run the test method with the specified name in the test file \n",
    "\n",
    "#pytest -m smoke #run the test cases with the specified marker\n",
    "\n",
    "#examples\n",
    "\n",
    "#test_login.py\n",
    "import pytest\n",
    "from selenium import webdriver\n",
    "from selenium.webdriver.common.by import By\n",
    "\n",
    "class TestLogin:\n",
    "\n",
    "    @pytest.fixture()\n",
    "    def setup(self):\n",
    "        self.driver = webdriver.Chrome()\n",
    "        self.driver.get('https://the-internet.herokuapp.com/login')\n",
    "        yield\n",
    "        self.driver.quit()\n",
    "\n",
    "    @pytest.mark.smoke\n",
    "    def test_valid_login(self, setup):\n",
    "        self.driver.find_element(By.ID, 'username').send_keys('tomsmith')\n",
    "        self.driver.find_element(By.ID, 'password').send_keys('SuperSecretPassword!')\n",
    "        self.driver.find_element(By.CLASS_NAME, 'radius').click()\n",
    "        assert 'secure' in self.driver.current_url\n",
    "\n",
    "    @pytest.mark.smoke\n",
    "    def test_invalid_login(self, setup):\n",
    "        self.driver.find_element(By.ID, 'username').send_keys('invalid')\n",
    "        self.driver.find_element(By.ID, 'password').send_keys('invalid')\n",
    "        self.driver.find_element(By.CLASS_NAME, 'radius').click()\n",
    "        assert 'secure' not in self.driver.current_url\n",
    "\n",
    "\n",
    "\n",
    "\n",
    "#pytest -v test_login.py #run the test file in verbose mode to see the output of each test case\n",
    "\n",
    "#pytest -k test_valid_login test_login.py #run the test method with the specified name in the test file\n",
    "\n",
    "#pytest -m smoke test_login.py #smoke is a marker, we can define markers in pytest.ini file or in the test file\n",
    "\n",
    "#pytest.ini\n",
    "#[pytest]\n",
    "#markers =\n",
    "#    smoke: mark a test as a smoke test\n",
    "\n",
    "# -s flag is used to print the output to the console\n",
    "# -k flag is used to run the tests that match the given substring expression\n",
    "# -m flag is used to run the tests that match the given marker expression\n",
    "# -v flag is used to run the tests in verbose mode to see the output of each test case in detail\n",
    "\n"
   ]
  },
  {
   "cell_type": "code",
   "execution_count": null,
   "metadata": {},
   "outputs": [],
   "source": [
    "#how to pass the fixtures to every test case without explicity mentioning it\n",
    "\n",
    "#conftest.py\n",
    "\n",
    "import pytest\n",
    "\n",
    "@pytest.fixture()\n",
    "def setup():\n",
    "    print('setup')\n",
    "    yield\n",
    "    print('teardown')\n",
    "\n",
    "\n",
    "\n",
    "#test_file.py\n",
    "\n",
    "@pytest.mark.usefixtures('setup')\n",
    "class testexample:\n",
    "    def test_first(self):\n",
    "        print('test_first')\n",
    "        assert 1==1\n",
    "\n",
    "    def test_second(self):\n",
    "        print('test_second')\n",
    "        assert 2==2\n",
    "\n",
    "\n",
    "\n",
    "#now if i want to exceute the setup only once in the class at the beginning of the test cases\n",
    "\n",
    "#conftest.py\n",
    "\n",
    "import pytest\n",
    "\n",
    "@pytest.fixture(scope='class')\n",
    "def setup():\n",
    "    print('setup')\n",
    "    yield\n",
    "    print('teardown')\n",
    "\n",
    "\n",
    "\n",
    "\n",
    "#test_file.py\n",
    "\n",
    "@pytest.mark.usefixtures('setup')\n",
    "class testexample:\n",
    "    def test_first(self):\n",
    "        print('test_first')\n",
    "        assert 1==1\n",
    "\n",
    "    def test_second(self):\n",
    "        print('test_second')\n",
    "        assert 2==2\n",
    "\n",
    "\n",
    "#what is scope is here ?\n",
    "        \n",
    "#scope is used to define the scope of the fixture, it can be function, class, module, session\n",
    "        \n",
    "#function - the fixture is called for every test case\n",
    "\n",
    "#class - the fixture is called only once for the class\n",
    "\n",
    "#module - the fixture is called only once for the module\n",
    "\n",
    "#session - the fixture is called only once for the session\n",
    "\n",
    "\n",
    "#how to run the test cases in parallel\n",
    "        \n",
    "#pytest -n 2 #runs the test cases in parallel with 2 threads\n",
    "        \n"
   ]
  },
  {
   "cell_type": "markdown",
   "metadata": {},
   "source": [
    "## pytest html report"
   ]
  },
  {
   "cell_type": "code",
   "execution_count": null,
   "metadata": {},
   "outputs": [],
   "source": [
    "\n",
    "\n",
    "#pip install pytest-html\n",
    "\n",
    "#pytest --html=report.html #generates the html report\n",
    "\n",
    "#pytest --html=report.html --self-contained-html #generates the html report with all the css and js files embedded in the html file\n",
    "\n",
    "#pytest --html=report.html --self-contained-html -v -s #generates the html report with all the css and js files embedded in the html file, in verbose mode and shows the output of the test cases"
   ]
  },
  {
   "cell_type": "markdown",
   "metadata": {},
   "source": [
    "## logging"
   ]
  },
  {
   "cell_type": "code",
   "execution_count": null,
   "metadata": {},
   "outputs": [],
   "source": [
    "import logging\n",
    "import inspect\n",
    "\n",
    "loggername = inspect.stack()[1][3] #gets the name of the function\n",
    "logger = logging.getLogger(__name__) # __name__ is the name of the module #logger is an object of the logging class"
   ]
  },
  {
   "cell_type": "code",
   "execution_count": null,
   "metadata": {},
   "outputs": [],
   "source": [
    "\n",
    "filehandler = logging.FileHandler('logfile.log') #creates a file handler that writes the logging messages to the file\n",
    "\n",
    "formatter = logging.Formatter('%(asctime)s : %(levelname)s : %(name)s : %(message)s') #creates a formatter that formats the logging messages\n",
    "\n",
    "filehandler.setFormatter(formatter) #sets the formatter to the file handler\n",
    "\n",
    "logger.addHandler(filehandler) #adds a handler to the logger, it is used to handle the logging messages\n",
    "\n",
    "logger.setLevel(logging.DEBUG) #sets the logging level of the logger"
   ]
  },
  {
   "cell_type": "code",
   "execution_count": null,
   "metadata": {},
   "outputs": [],
   "source": [
    "logger.debug('this is a debug message') #debug is the lowest level of logging, it is used for debugging purposes\n",
    "logger.info('this is an info message') #info is the second lowest level of logging, it is used for informational purposes\n",
    "logger.warning('this is a warning message') #warning is the third lowest level of logging, it is used for warning purposes\n",
    "logger.error('this is an error message') #error is the second highest level of logging, it is used for error purposes\n",
    "logger.critical('this is a critical message') #critical is the highest level of logging, it is used for critical purposes\n",
    "\n",
    "#logging levels\n",
    "\n",
    "#debug - lowest level of logging, it is used for debugging purposes\n",
    "#info - second lowest level of logging, it is used for informational purposes\n",
    "#warning - third lowest level of logging, it is used for warning purposes\n",
    "#error - second highest level of logging, it is used for error purposes\n",
    "#critical - highest level of logging, it is used for critical purposes"
   ]
  },
  {
   "cell_type": "code",
   "execution_count": null,
   "metadata": {},
   "outputs": [],
   "source": [
    "import logging\n",
    "import inspect\n",
    "\n",
    "class BaseClass:\n",
    "\n",
    "    def getlogger(self):\n",
    "        # Get the name of the calling function\n",
    "        loggername = inspect.stack()[1][3]\n",
    "        \n",
    "        # Create a logger object with the name of the calling function\n",
    "        logger = logging.getLogger(loggername)\n",
    "        \n",
    "        # Create a file handler to write log messages to a file named 'logfile.log'\n",
    "        filehandler = logging.FileHandler('logfile.log')\n",
    "        \n",
    "        # Create a formatter to specify the format of log messages\n",
    "        formatter = logging.Formatter('%(asctime)s : %(levelname)s : %(name)s : %(message)s')\n",
    "        \n",
    "        # Set the formatter for the file handler\n",
    "        filehandler.setFormatter(formatter)\n",
    "        \n",
    "        # Add the file handler to the logger\n",
    "        logger.addHandler(filehandler) # Add handler to the logger object, so that it can write to the file, as well as to the console, if required, based on the logging level\n",
    "        \n",
    "        # Set the logging level to INFO\n",
    "        logger.setLevel(logging.INFO)\n",
    "        \n",
    "        # Return the logger object\n",
    "        return logger\n",
    "    \n",
    "\n",
    "\n",
    "import pytest\n",
    "from test_logging import BaseClass \n",
    "\n",
    "class TestEx(BaseClass):\n",
    "\n",
    "    def test_ets(self):\n",
    "        log = self.getlogger()\n",
    "        log.error(\"This is info message\")"
   ]
  },
  {
   "cell_type": "code",
   "execution_count": null,
   "metadata": {},
   "outputs": [],
   "source": []
  }
 ],
 "metadata": {
  "kernelspec": {
   "display_name": "Python 3",
   "language": "python",
   "name": "python3"
  },
  "language_info": {
   "codemirror_mode": {
    "name": "ipython",
    "version": 3
   },
   "file_extension": ".py",
   "mimetype": "text/x-python",
   "name": "python",
   "nbconvert_exporter": "python",
   "pygments_lexer": "ipython3",
   "version": "3.11.8"
  }
 },
 "nbformat": 4,
 "nbformat_minor": 2
}
